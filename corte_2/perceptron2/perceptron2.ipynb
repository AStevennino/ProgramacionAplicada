{
  "nbformat": 4,
  "nbformat_minor": 0,
  "metadata": {
    "colab": {
      "provenance": [],
      "authorship_tag": "ABX9TyOONk/ZszimpkAsMXELr7oR",
      "include_colab_link": true
    },
    "kernelspec": {
      "name": "python3",
      "display_name": "Python 3"
    },
    "language_info": {
      "name": "python"
    }
  },
  "cells": [
    {
      "cell_type": "markdown",
      "metadata": {
        "id": "view-in-github",
        "colab_type": "text"
      },
      "source": [
        "<a href=\"https://colab.research.google.com/github/AStevennino/ProgramacionAplicada/blob/main/perceptron2.ipynb\" target=\"_parent\"><img src=\"https://colab.research.google.com/assets/colab-badge.svg\" alt=\"Open In Colab\"/></a>"
      ]
    },
    {
      "cell_type": "code",
      "execution_count": null,
      "metadata": {
        "colab": {
          "base_uri": "https://localhost:8080/"
        },
        "id": "_9uhcJGRJdMC",
        "outputId": "6d64cca9-e001-471c-f56e-d9df56c0047d"
      },
      "outputs": [
        {
          "output_type": "stream",
          "name": "stdout",
          "text": [
            "weight:  2.95, cost:  27.08\n",
            "weight:  1.52, cost:  6.77\n",
            "weight:  2.24, cost:  1.69\n",
            "weight:  1.88, cost:  0.42\n",
            "weight:  2.06, cost:  0.11\n",
            "weight:  1.97, cost:  0.03\n",
            "weight:  2.01, cost:  0.01\n",
            "weight:  1.99, cost:  0.00\n",
            "weight:  2.00, cost:  0.00\n",
            "weight:  2.00, cost:  0.00\n",
            "weight:  2.00, cost:  0.00\n",
            "weight:  2.00, cost:  0.00\n",
            "weight:  2.00, cost:  0.00\n",
            "weight:  2.00, cost:  0.00\n",
            "weight:  2.00, cost:  0.00\n",
            "weight:  2.00, cost:  0.00\n",
            "weight:  2.00, cost:  0.00\n",
            "weight:  2.00, cost:  0.00\n",
            "weight:  2.00, cost:  0.00\n",
            "weight:  2.00, cost:  0.00\n",
            "weight:  2.00, cost:  0.00\n",
            "weight:  2.00, cost:  0.00\n",
            "weight:  2.00, cost:  0.00\n",
            "weight:  2.00, cost:  0.00\n",
            "weight:  2.00, cost:  0.00\n",
            "weight:  2.00, cost:  0.00\n",
            "weight:  2.00, cost:  0.00\n",
            "weight:  2.00, cost:  0.00\n",
            "weight:  2.00, cost:  0.00\n",
            "weight:  2.00, cost:  0.00\n"
          ]
        }
      ],
      "source": [
        "inputs = [1, 2, 3, 4]\n",
        "targets = [2, 4, 6,  8]\n",
        "\n",
        "w = 0.1\n",
        "epochs = 30\n",
        "learning_rate = 0.1\n",
        "\n",
        "def predict(i):\n",
        "  return w*i\n",
        "\n",
        "for _ in range(epochs):\n",
        "  pred = [predict(i) for i in inputs]\n",
        "  errors = [(p - t)**2 for p, t in zip(pred,targets)]\n",
        "  cost = sum(errors)/len(targets)\n",
        "  errors_d = [2*(p - t) for p, t in zip(pred, targets)]\n",
        "  weight_d = [e*i for e, i in zip(errors_d, inputs)]\n",
        "  w -= learning_rate*sum(weight_d)/len(weight_d)\n",
        "  print(f\"weight: {w: .2f}, cost: {cost: .2f}\")"
      ]
    },
    {
      "cell_type": "code",
      "source": [
        "test_inputs = [5, 6]\n",
        "test_targets = [10, 12]\n",
        "\n",
        "pred = [predict(i) for i in test_inputs]\n",
        "for i, t, p in zip(test_inputs, test_targets, pred):\n",
        "  print(f\"input: {i}, target: {t}, pred: {p: .4f}\")"
      ],
      "metadata": {
        "colab": {
          "base_uri": "https://localhost:8080/"
        },
        "id": "3ivgimCeOBxZ",
        "outputId": "968313ac-74be-4732-8bd0-eb8765133421"
      },
      "execution_count": null,
      "outputs": [
        {
          "output_type": "stream",
          "name": "stdout",
          "text": [
            "input: 5, target: 10, pred:  10.0000\n",
            "input: 6, target: 12, pred:  12.0000\n"
          ]
        }
      ]
    }
  ]
}
